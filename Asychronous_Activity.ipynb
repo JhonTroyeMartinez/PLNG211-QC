{
  "nbformat": 4,
  "nbformat_minor": 0,
  "metadata": {
    "colab": {
      "provenance": [],
      "collapsed_sections": [],
      "authorship_tag": "ABX9TyOCSMlmwhaEeBcHjSSIC7ki",
      "include_colab_link": true
    },
    "kernelspec": {
      "name": "python3",
      "display_name": "Python 3"
    },
    "language_info": {
      "name": "python"
    }
  },
  "cells": [
    {
      "cell_type": "markdown",
      "metadata": {
        "id": "view-in-github",
        "colab_type": "text"
      },
      "source": [
        "<a href=\"https://colab.research.google.com/github/JhonTroyeMartinez/PLNG211-QC/blob/main/Asychronous_Activity.ipynb\" target=\"_parent\"><img src=\"https://colab.research.google.com/assets/colab-badge.svg\" alt=\"Open In Colab\"/></a>"
      ]
    },
    {
      "cell_type": "markdown",
      "source": [
        "Asychronous Activity"
      ],
      "metadata": {
        "id": "DfnfgIKcTg-4"
      }
    },
    {
      "cell_type": "code",
      "execution_count": 1,
      "metadata": {
        "colab": {
          "base_uri": "https://localhost:8080/"
        },
        "id": "lfVQeMGdTdbk",
        "outputId": "fd30ebe5-0e6e-4df1-8690-4d9f1c752398"
      },
      "outputs": [
        {
          "output_type": "stream",
          "name": "stdout",
          "text": [
            "6300.0\n"
          ]
        }
      ],
      "source": [
        "\n",
        "Salary_rate = 600/1 #(day)\n",
        "Salary = Salary_rate * 15 #(days)\n",
        "Taxable_amount = 0.3 * Salary #30% of the salary\n",
        "Net_pay = Salary - Taxable_amount\n",
        "\n",
        "print(Net_pay)"
      ]
    }
  ]
}