{
  "nbformat": 4,
  "nbformat_minor": 0,
  "metadata": {
    "colab": {
      "provenance": [],
      "authorship_tag": "ABX9TyMW8YCq3k8z5GEvkH9y+41T",
      "include_colab_link": true
    },
    "kernelspec": {
      "name": "python3",
      "display_name": "Python 3"
    },
    "language_info": {
      "name": "python"
    }
  },
  "cells": [
    {
      "cell_type": "markdown",
      "metadata": {
        "id": "view-in-github",
        "colab_type": "text"
      },
      "source": [
        "<a href=\"https://colab.research.google.com/github/JhonTroyeMartinez/PLNG211-QC/blob/main/break%2C_while_and_for_Application.ipynb\" target=\"_parent\"><img src=\"https://colab.research.google.com/assets/colab-badge.svg\" alt=\"Open In Colab\"/></a>"
      ]
    },
    {
      "cell_type": "code",
      "source": [
        "# break statement Application 1\n",
        "# Display \n",
        "\n",
        "i = 1\n",
        "while i < 6:\n",
        "  if i == 3:\n",
        "    print(i)\n",
        "    break\n",
        "  i += 2"
      ],
      "metadata": {
        "id": "7MMnSOZnA-H1"
      },
      "execution_count": null,
      "outputs": []
    },
    {
      "cell_type": "code",
      "source": [
        "# While Application 2\n",
        "\n",
        "i = 0\n",
        "while i <= 10:\n",
        " print(\"Hello\", i)\n",
        " i += 1"
      ],
      "metadata": {
        "id": "FhCu4cWWA8U2"
      },
      "execution_count": null,
      "outputs": []
    },
    {
      "cell_type": "code",
      "execution_count": null,
      "metadata": {
        "id": "G9qv73AkA3qb"
      },
      "outputs": [],
      "source": [
        "#Application 3\n",
        "#create a python program that display integers less than 3 {9, 8, 7, 6, 5, 4, 3}\n",
        "\n",
        "for i in range(3,10):\n",
        " print(i)"
      ]
    }
  ]
}