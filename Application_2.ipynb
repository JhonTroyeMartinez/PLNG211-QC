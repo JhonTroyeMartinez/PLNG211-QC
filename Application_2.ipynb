{
  "nbformat": 4,
  "nbformat_minor": 0,
  "metadata": {
    "colab": {
      "provenance": [],
      "authorship_tag": "ABX9TyOSz1GO+8ljOj1MvuRghvv1",
      "include_colab_link": true
    },
    "kernelspec": {
      "name": "python3",
      "display_name": "Python 3"
    },
    "language_info": {
      "name": "python"
    }
  },
  "cells": [
    {
      "cell_type": "markdown",
      "metadata": {
        "id": "view-in-github",
        "colab_type": "text"
      },
      "source": [
        "<a href=\"https://colab.research.google.com/github/JhonTroyeMartinez/PLNG211-QC/blob/main/Application_2.ipynb\" target=\"_parent\"><img src=\"https://colab.research.google.com/assets/colab-badge.svg\" alt=\"Open In Colab\"/></a>"
      ]
    },
    {
      "cell_type": "code",
      "execution_count": null,
      "metadata": {
        "id": "tm_I9L4wKw5j"
      },
      "outputs": [],
      "source": [
        "#Application 2\n",
        "#Write a program that determines if the input number is POSITIVE, NEGATIVE, OR ZERO.\n",
        "x = float(input(\"Enter a number: \"))\n",
        "if x >= 1:\n",
        "  print(\"POSITIVE\")\n",
        "elif x == 0:\n",
        "      print(\"ZERO\")\n",
        "else:\n",
        "   print(\"NEGATIVE\")\n"
      ]
    }
  ]
}