{
  "nbformat": 4,
  "nbformat_minor": 0,
  "metadata": {
    "colab": {
      "provenance": [],
      "authorship_tag": "ABX9TyNJosK24wkpTkI9wGgGcZ/I",
      "include_colab_link": true
    },
    "kernelspec": {
      "name": "python3",
      "display_name": "Python 3"
    },
    "language_info": {
      "name": "python"
    }
  },
  "cells": [
    {
      "cell_type": "markdown",
      "metadata": {
        "id": "view-in-github",
        "colab_type": "text"
      },
      "source": [
        "<a href=\"https://colab.research.google.com/github/JhonTroyeMartinez/PLNG211-QC/blob/main/Lab_Activity_2.ipynb\" target=\"_parent\"><img src=\"https://colab.research.google.com/assets/colab-badge.svg\" alt=\"Open In Colab\"/></a>"
      ]
    },
    {
      "cell_type": "code",
      "execution_count": 7,
      "metadata": {
        "colab": {
          "base_uri": "https://localhost:8080/"
        },
        "id": "-Q3aZnIPksb-",
        "outputId": "0e6271c2-3848-43fb-c3d6-b8bf4d9eba79"
      },
      "outputs": [
        {
          "output_type": "stream",
          "name": "stdout",
          "text": [
            "Name:               Jhon Troye D. Martinez\n",
            "Student Number:     2210001107\n",
            "Age:                19\n",
            "School:             Our Lady Fatima University\n",
            "Course:             Bachelor in Science Computer Science\n"
          ]
        }
      ],
      "source": [
        "Name = \"Jhon Troye D. Martinez\"\n",
        "Student_No = 2210001107\n",
        "Age = 19\n",
        "School = \"Our Lady Fatima University\"\n",
        "Course = \"Bachelor in Science Computer Science\"\n",
        "\n",
        "class Student:\n",
        "  def __init__(self,Name, Student_No, Age,School,Course):\n",
        "    self.Name = Name\n",
        "    self.Student_No = Student_No\n",
        "    self.Age = Age\n",
        "    self.School = School\n",
        "    self.Course = Course\n",
        "  \n",
        "  def info(self):\n",
        "    print(\"Name:              \",self.Name)\n",
        "    print(\"Student Number:    \",self.Student_No)\n",
        "    print(\"Age:               \", self.Age)\n",
        "    print(\"School:            \",self.School)\n",
        "    print(\"Course:            \",self.Course)\n",
        "\n",
        "Myself = Student(Name,Student_No,Age,School,Course)\n",
        "\n",
        "Myself.info()"
      ]
    }
  ]
}