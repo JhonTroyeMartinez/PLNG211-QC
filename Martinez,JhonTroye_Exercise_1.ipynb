{
  "nbformat": 4,
  "nbformat_minor": 0,
  "metadata": {
    "colab": {
      "provenance": [],
      "authorship_tag": "ABX9TyMfX6AJwsP4wWbOe9CKSxqF",
      "include_colab_link": true
    },
    "kernelspec": {
      "name": "python3",
      "display_name": "Python 3"
    },
    "language_info": {
      "name": "python"
    }
  },
  "cells": [
    {
      "cell_type": "markdown",
      "metadata": {
        "id": "view-in-github",
        "colab_type": "text"
      },
      "source": [
        "<a href=\"https://colab.research.google.com/github/JhonTroyeMartinez/PLNG211-QC/blob/main/Martinez%2CJhonTroye_Exercise_1.ipynb\" target=\"_parent\"><img src=\"https://colab.research.google.com/assets/colab-badge.svg\" alt=\"Open In Colab\"/></a>"
      ]
    },
    {
      "cell_type": "code",
      "source": [
        "from array import *\n",
        "\n",
        "a = array('i',[26,49,98,87,62,75])\n",
        "a.append(int(input(\"Enter number: \")))\n",
        "print(a)"
      ],
      "metadata": {
        "colab": {
          "base_uri": "https://localhost:8080/"
        },
        "id": "PKveU7e4FKmn",
        "outputId": "630273b6-d1c8-4cea-a127-4ac2e2653e1b"
      },
      "execution_count": 47,
      "outputs": [
        {
          "output_type": "stream",
          "name": "stdout",
          "text": [
            "Enter number: 7\n",
            "array('i', [26, 49, 98, 87, 62, 75, 7])\n"
          ]
        }
      ]
    },
    {
      "cell_type": "code",
      "source": [
        "a.insert(7,int(input(\"Enter integer: \")))\n",
        "print(a)"
      ],
      "metadata": {
        "colab": {
          "base_uri": "https://localhost:8080/"
        },
        "id": "MBlP5o8JFCC3",
        "outputId": "555ee62c-7379-4631-b32c-398846576a8e"
      },
      "execution_count": 48,
      "outputs": [
        {
          "output_type": "stream",
          "name": "stdout",
          "text": [
            "Enter integer: 9\n",
            "array('i', [26, 49, 98, 87, 62, 75, 7, 9])\n"
          ]
        }
      ]
    },
    {
      "cell_type": "code",
      "source": [
        "a.insert(8,int(input(\"Enter integer: \")))\n",
        "print(a)"
      ],
      "metadata": {
        "colab": {
          "base_uri": "https://localhost:8080/"
        },
        "id": "kHpIOiNJFANW",
        "outputId": "cceba6e0-9e86-44c9-8e7b-f6ee4c8ff6f4"
      },
      "execution_count": 49,
      "outputs": [
        {
          "output_type": "stream",
          "name": "stdout",
          "text": [
            "Enter integer: 56\n",
            "array('i', [26, 49, 98, 87, 62, 75, 7, 9, 56])\n"
          ]
        }
      ]
    },
    {
      "cell_type": "code",
      "source": [
        "a.insert(9,int(input(\"Enter integer: \")))\n",
        "print(a)"
      ],
      "metadata": {
        "colab": {
          "base_uri": "https://localhost:8080/"
        },
        "id": "fkCJSbTZE-aX",
        "outputId": "48ef23d2-e9a6-447a-bfbf-ed1108cccdb9"
      },
      "execution_count": 50,
      "outputs": [
        {
          "output_type": "stream",
          "name": "stdout",
          "text": [
            "Enter integer: 100\n",
            "array('i', [26, 49, 98, 87, 62, 75, 7, 9, 56, 100])\n"
          ]
        }
      ]
    }
  ]
}