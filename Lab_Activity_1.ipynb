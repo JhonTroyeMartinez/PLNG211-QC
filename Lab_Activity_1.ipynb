{
  "nbformat": 4,
  "nbformat_minor": 0,
  "metadata": {
    "colab": {
      "provenance": [],
      "authorship_tag": "ABX9TyPPRaG1Gp1tOw66iSKxybKD",
      "include_colab_link": true
    },
    "kernelspec": {
      "name": "python3",
      "display_name": "Python 3"
    },
    "language_info": {
      "name": "python"
    }
  },
  "cells": [
    {
      "cell_type": "markdown",
      "metadata": {
        "id": "view-in-github",
        "colab_type": "text"
      },
      "source": [
        "<a href=\"https://colab.research.google.com/github/JhonTroyeMartinez/PLNG211-QC/blob/main/Lab_Activity_1.ipynb\" target=\"_parent\"><img src=\"https://colab.research.google.com/assets/colab-badge.svg\" alt=\"Open In Colab\"/></a>"
      ]
    },
    {
      "cell_type": "code",
      "source": [
        "#1.\tWrite a Python program to create an array of 10 integers and display the array items. Access individual elements through indexes and compute for the sum.\n",
        "n = int(input(\"Enter the size of integers:\"))\n",
        "numbers = []\n",
        "for i in range(n):\n",
        "  numbers.append(int(input()))\n",
        "\n",
        "sum_number = 0\n",
        "for i in numbers:\n",
        "  sum_number = sum_number+i\n",
        "print(\" \")\n",
        "print(sum_number)"
      ],
      "metadata": {
        "colab": {
          "base_uri": "https://localhost:8080/"
        },
        "id": "1NBgFvmo5gYO",
        "outputId": "c1803a13-cc36-49c8-aa7a-c117f6257365"
      },
      "execution_count": 39,
      "outputs": [
        {
          "output_type": "stream",
          "name": "stdout",
          "text": [
            "Enter the size of integers:4\n",
            "1\n",
            "3\n",
            "5\n",
            "7\n",
            " \n",
            "16\n"
          ]
        }
      ]
    },
    {
      "cell_type": "code",
      "source": [
        "#2.\tWrite a Python program to append a new item to the end of the array. Original array: numbers = [1, 2, 3, 4, 5, 6, 7, 8, 9, 10]\n",
        "array = [1,2,3,4,5,6,7,8,9,10]\n",
        "array.append(input(\"Enter a number:\"))\n",
        "print(array)"
      ],
      "metadata": {
        "colab": {
          "base_uri": "https://localhost:8080/"
        },
        "id": "6SXV3xSz6vOL",
        "outputId": "af04fd49-5941-4735-cf90-6e9b63087e42"
      },
      "execution_count": 31,
      "outputs": [
        {
          "output_type": "stream",
          "name": "stdout",
          "text": [
            "Enter a number:11\n",
            "[1, 2, 3, 4, 5, 6, 7, 8, 9, 10, '11']\n"
          ]
        }
      ]
    },
    {
      "cell_type": "code",
      "source": [
        "#3.\tWrite a Python program to insert a new item before the second element in an existing array. Original array: numbers = [1, 2, 3, 4, 5, 6, 7, 8, 9, 10]\n",
        "numbers = [1,2,3,4,5,6,7,8,9,10]\n",
        "numbers.insert(1,input(\"Enter a number: \"))\n",
        "print(numbers)"
      ],
      "metadata": {
        "colab": {
          "base_uri": "https://localhost:8080/"
        },
        "id": "IQA4cfnf7jRC",
        "outputId": "6f597e65-e94f-4830-c1b5-52133e01eebe"
      },
      "execution_count": 33,
      "outputs": [
        {
          "output_type": "stream",
          "name": "stdout",
          "text": [
            "Enter a number: 3\n",
            "[1, '3', 2, 3, 4, 5, 6, 7, 8, 9, 10]\n"
          ]
        }
      ]
    },
    {
      "cell_type": "code",
      "source": [
        "#4.\tWrite a Python program to reverse the order of the items in the array. Original array: numbers = [5, 4, 3, 2, 1]\n",
        "def rev(t):\n",
        "  n = len(t)\n",
        "  i = 0;\n",
        "  j = n - 1\n",
        "  while i < j:\n",
        "    tp = t[i]\n",
        "    t[i] = t[j]\n",
        "    t[j] = tp\n",
        "    i+=1\n",
        "    j -= 1\n",
        "\n",
        "arrays = [5,4,3,2,1]\n",
        "rev(arrays)\n",
        "print(arrays)"
      ],
      "metadata": {
        "colab": {
          "base_uri": "https://localhost:8080/"
        },
        "id": "wBK_ymS99UUw",
        "outputId": "376f3054-19ab-4c0a-8ba7-49ea5764fee0"
      },
      "execution_count": 37,
      "outputs": [
        {
          "output_type": "stream",
          "name": "stdout",
          "text": [
            "[1, 2, 3, 4, 5]\n"
          ]
        }
      ]
    },
    {
      "cell_type": "code",
      "source": [
        "#5.\tWrite a Python program to get the length of the array. Original array: numbers = [5, 4, 3, 2, 1]\n",
        "numbers = [5,4,3,2,1]\n",
        "\n",
        "count = 0;\n",
        "for i in numbers:\n",
        "  count = count+1\n",
        "print(numbers)\n",
        "print(count)"
      ],
      "metadata": {
        "colab": {
          "base_uri": "https://localhost:8080/"
        },
        "id": "ZzxbtU3U_Nj9",
        "outputId": "80ca760b-a947-4bab-9a73-dc78f570162b"
      },
      "execution_count": 41,
      "outputs": [
        {
          "output_type": "stream",
          "name": "stdout",
          "text": [
            "[5, 4, 3, 2, 1]\n",
            "5\n"
          ]
        }
      ]
    }
  ]
}